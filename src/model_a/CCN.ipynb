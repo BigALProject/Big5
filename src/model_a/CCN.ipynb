{
  "nbformat": 4,
  "nbformat_minor": 0,
  "metadata": {
    "colab": {
      "name": "Untitled4.ipynb",
      "provenance": [],
      "machine_shape": "hm"
    },
    "kernelspec": {
      "name": "python3",
      "display_name": "Python 3"
    },
    "accelerator": "TPU"
  },
  "cells": [
    {
      "cell_type": "code",
      "metadata": {
        "id": "1Hfgf40x-Nfb",
        "colab_type": "code",
        "colab": {}
      },
      "source": [
        "# Import PyDrive and associated libraries.\n",
        "# This only needs to be done once per notebook.\n",
        "from pydrive.auth import GoogleAuth\n",
        "from pydrive.drive import GoogleDrive\n",
        "from google.colab import auth\n",
        "from oauth2client.client import GoogleCredentials"
      ],
      "execution_count": 0,
      "outputs": []
    },
    {
      "cell_type": "code",
      "metadata": {
        "id": "ayLUcGnT_BIS",
        "colab_type": "code",
        "colab": {}
      },
      "source": [
        "# Authenticate and create the PyDrive client.\n",
        "# This only needs to be done once per notebook.\n",
        "auth.authenticate_user()\n",
        "gauth = GoogleAuth()\n",
        "gauth.credentials = GoogleCredentials.get_application_default()\n",
        "drive = GoogleDrive(gauth)"
      ],
      "execution_count": 0,
      "outputs": []
    },
    {
      "cell_type": "code",
      "metadata": {
        "id": "VUf6byLv_Poh",
        "colab_type": "code",
        "outputId": "69d7172b-8a3e-4f8b-f306-1133a81540e5",
        "colab": {
          "base_uri": "https://localhost:8080/",
          "height": 122
        }
      },
      "source": [
        "from google.colab import drive\n",
        "drive.mount('/content/drive')"
      ],
      "execution_count": 3,
      "outputs": [
        {
          "output_type": "stream",
          "text": [
            "Go to this URL in a browser: https://accounts.google.com/o/oauth2/auth?client_id=947318989803-6bn6qk8qdgf4n4g3pfee6491hc0brc4i.apps.googleusercontent.com&redirect_uri=urn%3aietf%3awg%3aoauth%3a2.0%3aoob&response_type=code&scope=email%20https%3a%2f%2fwww.googleapis.com%2fauth%2fdocs.test%20https%3a%2f%2fwww.googleapis.com%2fauth%2fdrive%20https%3a%2f%2fwww.googleapis.com%2fauth%2fdrive.photos.readonly%20https%3a%2f%2fwww.googleapis.com%2fauth%2fpeopleapi.readonly\n",
            "\n",
            "Enter your authorization code:\n",
            "··········\n",
            "Mounted at /content/drive\n"
          ],
          "name": "stdout"
        }
      ]
    },
    {
      "cell_type": "code",
      "metadata": {
        "id": "s0fFQuPw_2oe",
        "colab_type": "code",
        "colab": {}
      },
      "source": [
        "import os\n",
        "import cv2\n",
        "import matplotlib.pyplot as plt\n"
      ],
      "execution_count": 0,
      "outputs": []
    },
    {
      "cell_type": "code",
      "metadata": {
        "id": "9q8fjR8i_-vM",
        "colab_type": "code",
        "outputId": "5faa6fa9-6b11-4c31-df20-4088c85b6cc2",
        "colab": {
          "base_uri": "https://localhost:8080/",
          "height": 1000
        }
      },
      "source": [
        "from os import listdir\n",
        "\n",
        "# directory = ('/content/drive/My Drive/MaskImage')\n",
        "\n",
        "directory = ('/content/drive/My Drive/maskedImage')\n",
        "\n",
        "CATEGORIES=['destroyed','major-damage','minor-damage','no-damage']\n",
        "for i in CATEGORIES:\n",
        "    path=os.path.join(directory, i) # create path to category\n",
        "    for img in os.listdir(path):  # iterate over each image per category\n",
        "        img_array=cv2.imread(os.path.join(path,img),cv2.IMREAD_GRAYSCALE) # convert to array\n",
        "        plt.imshow(img_array, cmap='gray')\n",
        "        plt.show()\n",
        "        break\n",
        "\n",
        "\n",
        "\n"
      ],
      "execution_count": 5,
      "outputs": [
        {
          "output_type": "display_data",
          "data": {
            "image/png": "[encoded data removed]",
            "text/plain": [
              "<Figure size 432x288 with 1 Axes>"
            ]
          },
          "metadata": {
            "tags": []
          }
        },
        {
          "output_type": "display_data",
          "data": {
            "image/png": "[encoded data removed]",
            "text/plain": [
              "<Figure size 432x288 with 1 Axes>"
            ]
          },
          "metadata": {
            "tags": []
          }
        },
        {
          "output_type": "display_data",
          "data": {
            "image/png": "[encoded data removed]",
            "text/plain": [
              "<Figure size 432x288 with 1 Axes>"
            ]
          },
          "metadata": {
            "tags": []
          }
        },
        {
          "output_type": "display_data",
          "data": {
            "image/png": "[encoded data removed]",
            "text/plain": [
              "<Figure size 432x288 with 1 Axes>"
            ]
          },
          "metadata": {
            "tags": []
          }
        }
      ]
    },
    {
      "cell_type": "code",
      "metadata": {
        "id": "PILqBHl9A8zc",
        "colab_type": "code",
        "outputId": "581f627a-665a-4d9e-b983-a228e7aa1755",
        "colab": {
          "base_uri": "https://localhost:8080/",
          "height": 153
        }
      },
      "source": [
        "print(img_array)\n",
        "print(img_array.shape)"
      ],
      "execution_count": 6,
      "outputs": [
        {
          "output_type": "stream",
          "text": [
            "[[0 0 0 ... 0 0 0]\n",
            " [0 0 0 ... 0 0 0]\n",
            " [0 0 0 ... 0 0 0]\n",
            " ...\n",
            " [0 0 0 ... 0 0 0]\n",
            " [0 0 0 ... 0 0 0]\n",
            " [0 0 0 ... 0 0 0]]\n",
            "(1024, 1024)\n"
          ],
          "name": "stdout"
        }
      ]
    },
    {
      "cell_type": "code",
      "metadata": {
        "id": "Q6t9W9hFBInO",
        "colab_type": "code",
        "outputId": "63d4c827-4c6c-4aa3-f164-206a6edb2ede",
        "colab": {
          "base_uri": "https://localhost:8080/",
          "height": 269
        }
      },
      "source": [
        "#resize the image(not need because all the image are the same size)\n",
        "IMG_SIZE = 500\n",
        "new_array = cv2.resize(img_array,(IMG_SIZE,IMG_SIZE))\n",
        "plt.imshow(new_array,cmap='gray')\n",
        "plt.show()"
      ],
      "execution_count": 7,
      "outputs": [
        {
          "output_type": "display_data",
          "data": {
            "image/png": "[encoded data removed]",
            "text/plain": [
              "<Figure size 432x288 with 1 Axes>"
            ]
          },
          "metadata": {
            "tags": []
          }
        }
      ]
    },
    {
      "cell_type": "code",
      "metadata": {
        "id": "Fwb-tRLVBY4G",
        "colab_type": "code",
        "outputId": "1c0f26db-f5d6-42f7-f3e6-2a307256d429",
        "colab": {
          "base_uri": "https://localhost:8080/",
          "height": 148
        }
      },
      "source": [
        "from tqdm import tqdm\n",
        "import numpy as np\n",
        "import tensorflow as tf\n",
        "\n",
        "IMG_SIZE = 500\n",
        "training_data = []\n",
        "\n",
        "gpu_options = tf.GPUOptions(per_process_gpu_memory_fraction=0.333)\n",
        "sess = tf.Session(config=tf.ConfigProto(gpu_options=gpu_options))\n",
        "\n",
        "def create_training_data():\n",
        "    for i in CATEGORIES:  # do destroyed,major-damage,minor-damage,no-damage\n",
        "\n",
        "        path = os.path.join(directory,i)  # create path to destroyed,major-damage,minor-damage,no-damage\n",
        "        # print(path)\n",
        "        class_num = CATEGORIES.index(i)  # get the classification  (0,1,2 0r a 3). \n",
        "\n",
        "        for img in tqdm(os.listdir(path)):  # iterate over each image per destroyed,major-damage,minor-damage,no-damage\n",
        "            try:\n",
        "                img_array = cv2.imread(os.path.join(path,img) ,cv2.IMREAD_GRAYSCALE)  # convert to array\n",
        "                new_array = cv2.resize(img_array, (IMG_SIZE, IMG_SIZE))  # resize to normalize data size\n",
        "                # print(len(new_array))\n",
        "                training_data.append([new_array, class_num])  # add this to our training_data\n",
        "            except Exception as e:  # in the interest in keeping the output clean...\n",
        "                pass\n",
        "            #except OSError as e:\n",
        "            #    print(\"OSErrroBad img most likely\", e, os.path.join(path,img))\n",
        "            #except Exception as e:\n",
        "            #    print(\"general exception\", e, os.path.join(path,img))\n",
        "\n",
        "create_training_data()\n",
        "\n",
        "print(len(training_data))"
      ],
      "execution_count": 8,
      "outputs": [
        {
          "output_type": "display_data",
          "data": {
            "text/html": [
              "<p style=\"color: red;\">\n",
              "The default version of TensorFlow in Colab will soon switch to TensorFlow 2.x.<br>\n",
              "We recommend you <a href=\"https://www.tensorflow.org/guide/migrate\" target=\"_blank\">upgrade</a> now \n",
              "or ensure your notebook will continue to use TensorFlow 1.x via the <code>%tensorflow_version 1.x</code> magic:\n",
              "<a href=\"https://colab.research.google.com/notebooks/tensorflow_version.ipynb\" target=\"_blank\">more info</a>.</p>\n"
            ],
            "text/plain": [
              "<IPython.core.display.HTML object>"
            ]
          },
          "metadata": {
            "tags": []
          }
        },
        {
          "output_type": "stream",
          "text": [
            "100%|██████████| 1110/1110 [10:44<00:00,  1.77it/s]\n",
            "100%|██████████| 1100/1100 [10:32<00:00,  1.75it/s]\n",
            "100%|██████████| 1100/1100 [10:34<00:00,  1.83it/s]\n",
            "100%|██████████| 1110/1110 [10:34<00:00,  1.85it/s]"
          ],
          "name": "stderr"
        },
        {
          "output_type": "stream",
          "text": [
            "4420\n"
          ],
          "name": "stdout"
        },
        {
          "output_type": "stream",
          "text": [
            "\n"
          ],
          "name": "stderr"
        }
      ]
    },
    {
      "cell_type": "code",
      "metadata": {
        "id": "sHjzky2oGml5",
        "colab_type": "code",
        "outputId": "e6af2882-5e30-4490-d951-bb31371d59b6",
        "colab": {
          "base_uri": "https://localhost:8080/",
          "height": 187
        }
      },
      "source": [
        "#Our training_data is a list, meaning it's mutable, so it's now nicely shuffled. We can confirm this by iterating over \n",
        "#a few of the initial samples and printing out the class.\n",
        "import random\n",
        "random.shuffle(training_data)\n",
        "for sample in training_data[:10]:\n",
        "    print(sample[1])"
      ],
      "execution_count": 9,
      "outputs": [
        {
          "output_type": "stream",
          "text": [
            "2\n",
            "0\n",
            "1\n",
            "2\n",
            "1\n",
            "0\n",
            "2\n",
            "2\n",
            "2\n",
            "0\n"
          ],
          "name": "stdout"
        }
      ]
    },
    {
      "cell_type": "code",
      "metadata": {
        "id": "l6HwveQrHAVJ",
        "colab_type": "code",
        "outputId": "28b045da-fbed-4c64-a5eb-fe3574785104",
        "colab": {
          "base_uri": "https://localhost:8080/",
          "height": 1000
        }
      },
      "source": [
        "#Making our model\n",
        "import seaborn as sns\n",
        "\n",
        "X=[]\n",
        "y=[]\n",
        "for features, labels in training_data:\n",
        "    X.append(features)\n",
        "    y.append(labels)\n",
        "\n",
        "\n",
        "print(X[0].reshape(-1, IMG_SIZE, IMG_SIZE, 1))\n",
        "\n",
        "X = np.array(X).reshape(-1, IMG_SIZE, IMG_SIZE, 1)\n",
        "\n",
        "# X = np.array(X).reshape(-1,IMG_SIZE,IMG_SIZE,1)\n",
        "\n",
        "# #Normalizing X from 0-255 to 0-1.\n",
        "# X = X/255.0\n",
        "\n",
        "sns.countplot(y)\n"
      ],
      "execution_count": 10,
      "outputs": [
        {
          "output_type": "stream",
          "text": [
            "[[[[0]\n",
            "   [0]\n",
            "   [0]\n",
            "   ...\n",
            "   [0]\n",
            "   [0]\n",
            "   [0]]\n",
            "\n",
            "  [[0]\n",
            "   [0]\n",
            "   [0]\n",
            "   ...\n",
            "   [0]\n",
            "   [0]\n",
            "   [0]]\n",
            "\n",
            "  [[0]\n",
            "   [0]\n",
            "   [0]\n",
            "   ...\n",
            "   [0]\n",
            "   [0]\n",
            "   [0]]\n",
            "\n",
            "  ...\n",
            "\n",
            "  [[0]\n",
            "   [0]\n",
            "   [0]\n",
            "   ...\n",
            "   [0]\n",
            "   [0]\n",
            "   [0]]\n",
            "\n",
            "  [[0]\n",
            "   [0]\n",
            "   [0]\n",
            "   ...\n",
            "   [0]\n",
            "   [0]\n",
            "   [0]]\n",
            "\n",
            "  [[0]\n",
            "   [0]\n",
            "   [0]\n",
            "   ...\n",
            "   [0]\n",
            "   [0]\n",
            "   [0]]]]\n"
          ],
          "name": "stdout"
        },
        {
          "output_type": "execute_result",
          "data": {
            "text/plain": [
              "<matplotlib.axes._subplots.AxesSubplot at 0x7fab14db7710>"
            ]
          },
          "metadata": {
            "tags": []
          },
          "execution_count": 10
        },
        {
          "output_type": "display_data",
          "data": {
            "image/png": "[encoded data removed]",
            "text/plain": [
              "<Figure size 432x288 with 1 Axes>"
            ]
          },
          "metadata": {
            "tags": []
          }
        }
      ]
    },
    {
      "cell_type": "code",
      "metadata": {
        "id": "54m-OnK7HXEO",
        "colab_type": "code",
        "outputId": "73336d8a-f91a-46e0-b651-e679e8168317",
        "colab": {
          "base_uri": "https://localhost:8080/",
          "height": 309
        }
      },
      "source": [
        "#The basic CNN structure is as follows: Convolution -> Pooling -> Convolution -> Pooling -> Fully Connected Layer -> Output\n",
        "\n",
        "from tensorflow.keras.datasets import cifar10\n",
        "from tensorflow.keras.preprocessing.image import ImageDataGenerator\n",
        "from tensorflow.keras.models import Sequential\n",
        "from tensorflow.keras.layers import Dense, Dropout, Activation, Flatten\n",
        "from tensorflow.keras.layers import Conv2D, MaxPooling2D\n",
        "from keras.layers import Input\n",
        "from keras.models import Model\n",
        "\n",
        "#Normalizing X from 0-255 to 0-1.\n",
        "X = X/255.0\n",
        "input_s=(500,500,1)\n",
        "\n",
        "model = Sequential()\n",
        "model.add(Conv2D(32, kernel_size = (3, 3), padding='same', activation='relu', input_shape=input_s))\n",
        "model.add(MaxPooling2D(pool_size=(2,2),strides = (2,2)))\n",
        "\n",
        "#define the second set of layers\n",
        "model.add(Conv2D(64, kernel_size = (3, 3), padding='same', activation='relu', input_shape=input_s))\n",
        "model.add(MaxPooling2D(pool_size=(2,2),strides = (2,2)))\n",
        "\n",
        "# #define the third set of layers\n",
        "model.add(Conv2D(96, kernel_size = (3, 3), padding='same', activation='relu', input_shape=input_s))\n",
        "model.add(MaxPooling2D(pool_size=(2,2),strides = (2,2)))\n",
        "\n",
        "model.add(Flatten())  # this converts our 3D feature maps to 1D feature vectors\n",
        "model.add(Dense(64, activation='relu'))\n",
        "model.add(Dropout(0.2))\n",
        "model.add(Dense(4, activation='softmax'))\n",
        "\n",
        "model.compile(loss='categorical_crossentropy',optimizer='adam',metrics=['accuracy'])\n",
        "\n",
        "\n",
        "#The target variable of y is classify as three classes, we need to do the OneHot Encoding. \n",
        "from sklearn.model_selection import train_test_split\n",
        "from sklearn.preprocessing import OneHotEncoder, LabelEncoder\n",
        "from keras import utils as np_utils\n",
        "\n",
        "encoder=LabelEncoder()\n",
        "encoder.fit(y)\n",
        "encoded_y=encoder.transform(y)\n",
        "y_code=np_utils.to_categorical(encoded_y)\n",
        "\n",
        "import datetime\n",
        "now = datetime.datetime.now\n",
        "t = now()\n",
        "\n",
        "X_train,X_test,y_train,y_test=train_test_split(X,y_code,test_size=0.3)\n",
        "history = model.fit(X_train,y_train,\n",
        "          batch_size=30,\n",
        "          epochs=5,\n",
        "          verbose=1,\n",
        "          validation_data=(X_test,y_test))\n",
        "\n",
        "score=model.evaluate(X_test,y_test,verbose=0)\n",
        "print('Training time: %s' % (now() - t))\n",
        "\n",
        "#acc is the accracy for the trian of the 3094 sample and \n",
        "#val_acc is the accuracy for the validation sample\n"
      ],
      "execution_count": 11,
      "outputs": [
        {
          "output_type": "stream",
          "text": [
            "Using TensorFlow backend.\n"
          ],
          "name": "stderr"
        },
        {
          "output_type": "stream",
          "text": [
            "WARNING:tensorflow:From /usr/local/lib/python3.6/dist-packages/tensorflow_core/python/ops/resource_variable_ops.py:1630: calling BaseResourceVariable.__init__ (from tensorflow.python.ops.resource_variable_ops) with constraint is deprecated and will be removed in a future version.\n",
            "Instructions for updating:\n",
            "If using Keras pass *_constraint arguments to layers.\n",
            "Train on 3094 samples, validate on 1326 samples\n",
            "Epoch 1/5\n",
            "3094/3094 [==============================] - 885s 286ms/sample - loss: 1.3877 - acc: 0.2469 - val_loss: 1.3865 - val_acc: 0.2489\n",
            "Epoch 2/5\n",
            "3094/3094 [==============================] - 867s 280ms/sample - loss: 1.3764 - acc: 0.3019 - val_loss: 1.3892 - val_acc: 0.2504\n",
            "Epoch 3/5\n",
            "3094/3094 [==============================] - 871s 281ms/sample - loss: 1.1488 - acc: 0.5126 - val_loss: 1.5356 - val_acc: 0.2489\n",
            "Epoch 4/5\n",
            "3094/3094 [==============================] - 872s 282ms/sample - loss: 0.5838 - acc: 0.7796 - val_loss: 2.8943 - val_acc: 0.2572\n",
            "Epoch 5/5\n",
            "3094/3094 [==============================] - 873s 282ms/sample - loss: 0.1682 - acc: 0.9415 - val_loss: 4.3022 - val_acc: 0.2526\n",
            "Training time: 1:14:19.844164\n"
          ],
          "name": "stdout"
        }
      ]
    },
    {
      "cell_type": "code",
      "metadata": {
        "id": "hULtwklM2du3",
        "colab_type": "code",
        "colab": {
          "base_uri": "https://localhost:8080/",
          "height": 493
        },
        "outputId": "c9b0f33f-e125-4be0-c98f-57c35b4cc730"
      },
      "source": [
        "#Our training_data is a list, meaning it's mutable, so it's now nicely shuffled. We can confirm this by iterating over \n",
        "#a few of the initial samples and printing out the class.\n",
        "model.summary()"
      ],
      "execution_count": 12,
      "outputs": [
        {
          "output_type": "stream",
          "text": [
            "Model: \"sequential\"\n",
            "_________________________________________________________________\n",
            "Layer (type)                 Output Shape              Param #   \n",
            "=================================================================\n",
            "conv2d (Conv2D)              (None, 500, 500, 32)      320       \n",
            "_________________________________________________________________\n",
            "max_pooling2d (MaxPooling2D) (None, 250, 250, 32)      0         \n",
            "_________________________________________________________________\n",
            "conv2d_1 (Conv2D)            (None, 250, 250, 64)      18496     \n",
            "_________________________________________________________________\n",
            "max_pooling2d_1 (MaxPooling2 (None, 125, 125, 64)      0         \n",
            "_________________________________________________________________\n",
            "conv2d_2 (Conv2D)            (None, 125, 125, 96)      55392     \n",
            "_________________________________________________________________\n",
            "max_pooling2d_2 (MaxPooling2 (None, 62, 62, 96)        0         \n",
            "_________________________________________________________________\n",
            "flatten (Flatten)            (None, 369024)            0         \n",
            "_________________________________________________________________\n",
            "dense (Dense)                (None, 64)                23617600  \n",
            "_________________________________________________________________\n",
            "dropout (Dropout)            (None, 64)                0         \n",
            "_________________________________________________________________\n",
            "dense_1 (Dense)              (None, 4)                 260       \n",
            "=================================================================\n",
            "Total params: 23,692,068\n",
            "Trainable params: 23,692,068\n",
            "Non-trainable params: 0\n",
            "_________________________________________________________________\n"
          ],
          "name": "stdout"
        }
      ]
    },
    {
      "cell_type": "code",
      "metadata": {
        "id": "wJwhCVA36jjJ",
        "colab_type": "code",
        "colab": {
          "base_uri": "https://localhost:8080/",
          "height": 34
        },
        "outputId": "922606f5-861b-43cf-a48a-755ec61c1d79"
      },
      "source": [
        "X.shape"
      ],
      "execution_count": 13,
      "outputs": [
        {
          "output_type": "execute_result",
          "data": {
            "text/plain": [
              "(4420, 500, 500, 1)"
            ]
          },
          "metadata": {
            "tags": []
          },
          "execution_count": 13
        }
      ]
    },
    {
      "cell_type": "code",
      "metadata": {
        "id": "wD9KVUd16oeU",
        "colab_type": "code",
        "colab": {
          "base_uri": "https://localhost:8080/",
          "height": 102
        },
        "outputId": "acff7668-d926-43e2-a795-d2a6a93c62ba"
      },
      "source": [
        "scores=model.evaluate(X_train,y_train)\n",
        "print('\\n%s:%.2f%%'%(model.metrics_names[1],scores[1]*100))\n",
        "\n",
        "# evaluate the performance the new model and report the results\n",
        "print(\"Test Score:\", score[0])\n",
        "print(\"Test Accuracy:\", score[1])"
      ],
      "execution_count": 14,
      "outputs": [
        {
          "output_type": "stream",
          "text": [
            "3094/3094 [==============================] - 188s 61ms/sample - loss: 0.0530 - acc: 0.9842\n",
            "\n",
            "acc:98.42%\n",
            "Test Score: 4.302154866099178\n",
            "Test Accuracy: 0.25263953\n"
          ],
          "name": "stdout"
        }
      ]
    },
    {
      "cell_type": "code",
      "metadata": {
        "id": "gP0I8riE90VZ",
        "colab_type": "code",
        "colab": {
          "base_uri": "https://localhost:8080/",
          "height": 85
        },
        "outputId": "f73e99b8-1808-4fa9-8163-cccb607c33d0"
      },
      "source": [
        "from sklearn.metrics import confusion_matrix\n",
        "y_pred=model.predict(X_test)\n",
        "y_test_non=[np.argmax(t) for t in y_test]\n",
        "y_pred_non=[np.argmax(t) for t in y_pred]\n",
        "\n",
        "conf_mat=confusion_matrix(y_test_non, y_pred_non)\n",
        "conf_mat"
      ],
      "execution_count": 15,
      "outputs": [
        {
          "output_type": "execute_result",
          "data": {
            "text/plain": [
              "array([[73, 88, 84, 95],\n",
              "       [77, 95, 91, 77],\n",
              "       [64, 85, 78, 89],\n",
              "       [68, 85, 88, 89]])"
            ]
          },
          "metadata": {
            "tags": []
          },
          "execution_count": 15
        }
      ]
    },
    {
      "cell_type": "code",
      "metadata": {
        "id": "s_39utBc-bTg",
        "colab_type": "code",
        "colab": {
          "base_uri": "https://localhost:8080/",
          "height": 204
        },
        "outputId": "9fdfde82-c5be-4921-ff5d-546d100c4300"
      },
      "source": [
        "from sklearn.metrics import precision_recall_fscore_support, classification_report\n",
        "print(classification_report(y_test_non,y_pred_non))"
      ],
      "execution_count": 16,
      "outputs": [
        {
          "output_type": "stream",
          "text": [
            "              precision    recall  f1-score   support\n",
            "\n",
            "           0       0.26      0.21      0.23       340\n",
            "           1       0.27      0.28      0.27       340\n",
            "           2       0.23      0.25      0.24       316\n",
            "           3       0.25      0.27      0.26       330\n",
            "\n",
            "    accuracy                           0.25      1326\n",
            "   macro avg       0.25      0.25      0.25      1326\n",
            "weighted avg       0.25      0.25      0.25      1326\n",
            "\n"
          ],
          "name": "stdout"
        }
      ]
    },
    {
      "cell_type": "code",
      "metadata": {
        "id": "h1kB59VcHoHp",
        "colab_type": "code",
        "colab": {
          "base_uri": "https://localhost:8080/",
          "height": 303
        },
        "outputId": "36252a84-e81a-4a3f-b6c5-c32ecd0b0532"
      },
      "source": [
        "import seaborn as sns\n",
        "import matplotlib.pyplot as plt     \n",
        "\n",
        "#Printing confusion matrix\n",
        "ax= plt.subplot()\n",
        "sns.heatmap(conf_mat, annot=True,cmap='Blues',linewidths=5, linecolor='white',ax = ax); #annot=True to annotate cells\n",
        "bottom,top = ax.get_ylim()\n",
        "ax.set_ylim(bottom + 0.23, top - 0.2)\n",
        "\n",
        "# labels, title and ticks\n",
        "ax.set_xlabel('Predicted Class');ax.set_ylabel('True Class'); \n",
        "ax.set_title('Confusion Matrix'); \n",
        "ax.xaxis.set_ticklabels(['destroyed','major-damage','minor-damage','no-damage']); ax.yaxis.set_ticklabels(['destroyed','major-damage','minor-damage','no-damage']);"
      ],
      "execution_count": 38,
      "outputs": [
        {
          "output_type": "display_data",
          "data": {
            "image/png": "[encoded data removed]",
            "text/plain": [
              "<Figure size 432x288 with 2 Axes>"
            ]
          },
          "metadata": {
            "tags": []
          }
        }
      ]
    },
    {
      "cell_type": "code",
      "metadata": {
        "id": "UW6qMr8UcqrE",
        "colab_type": "code",
        "colab": {
          "base_uri": "https://localhost:8080/",
          "height": 282
        },
        "outputId": "eb4f2636-f578-42a5-b8c5-e03217901eaa"
      },
      "source": [
        "ax= plt.subplot()\n",
        "\n",
        "sns.heatmap(conf_mat/np.sum(conf_mat), annot=True,\n",
        "            fmt='.2%', cmap='Blues')\n",
        "bottom,top = ax.get_ylim()\n",
        "ax.set_ylim(bottom + 0.23, top - 0.2)"
      ],
      "execution_count": 25,
      "outputs": [
        {
          "output_type": "execute_result",
          "data": {
            "text/plain": [
              "(3.73, 0.3)"
            ]
          },
          "metadata": {
            "tags": []
          },
          "execution_count": 25
        },
        {
          "output_type": "display_data",
          "data": {
            "image/png": "[encoded data removed]",
            "text/plain": [
              "<Figure size 432x288 with 2 Axes>"
            ]
          },
          "metadata": {
            "tags": []
          }
        }
      ]
    },
    {
      "cell_type": "code",
      "metadata": {
        "id": "Q2-NJwTGenCX",
        "colab_type": "code",
        "colab": {}
      },
      "source": [
        "labels = ['True Neg','False Pos','False Neg','True Pos']\n",
        "labels = np.asarray(labels).reshape(2,2)\n",
        "sns.heatmap(conf_mat, annot=labels, fmt='', cmap='Blues')"
      ],
      "execution_count": 0,
      "outputs": []
    },
    {
      "cell_type": "code",
      "metadata": {
        "id": "d-9GTnSMbmWw",
        "colab_type": "code",
        "colab": {}
      },
      "source": [
        "group_names = ['True Neg','False Pos','False Neg','True Pos']\n",
        "group_counts = [\"{0:0.0f}\".format(value) for value in\n",
        "                conf_mat.flatten()]\n",
        "group_percentages = [\"{0:.2%}\".format(value) for value in\n",
        "                     conf_mat.flatten()/np.sum(conf_mat)]\n",
        "labels = [f\"{v1}\\n{v2}\\n{v3}\" for v1, v2, v3 in\n",
        "          zip(group_names,group_counts,group_percentages)]\n",
        "labels = np.asarray(labels).reshape(2,2)\n",
        "sns.heatmap(conf_mat, annot=labels, fmt='', cmap='Blues')"
      ],
      "execution_count": 0,
      "outputs": []
    },
    {
      "cell_type": "code",
      "metadata": {
        "id": "aoYme-YalBKB",
        "colab_type": "code",
        "colab": {}
      },
      "source": [
        "labels = ['True Neg','False Pos','False Neg','True Pos']\n",
        "categories = ['Zero', 'One']\n",
        "make_confusion_matrix(conf_mat,\n",
        "                      group_names=labels,\n",
        "                      categories=categories,\n",
        "                      cmap='binary')"
      ],
      "execution_count": 0,
      "outputs": []
    },
    {
      "cell_type": "code",
      "metadata": {
        "id": "hO1nYLS9rMsk",
        "colab_type": "code",
        "colab": {}
      },
      "source": [
        "import numpy as np\n",
        "import pandas as pd\n",
        "import matplotlib.pyplot as plt\n",
        "%matplotlib inline\n",
        "import seaborn as sns\n",
        "from sklearn.metrics import confusion_matrix\n",
        "def plot_cm(y_true, y_pred, figsize=(10,15)):\n",
        "    cm = confusion_matrix(y_test_non, y_pred_non, labels=np.unique(y_test_non))\n",
        "    cm_sum = np.sum(cm, axis=1, keepdims=True)\n",
        "    cm_perc = cm / cm_sum.astype(float) * 100\n",
        "    annot = np.empty_like(cm).astype(str)\n",
        "    nrows, ncols = cm.shape\n",
        "    for i in range(nrows):\n",
        "        for j in range(ncols):\n",
        "            c = cm[i, j]\n",
        "            p = cm_perc[i, j]\n",
        "            if i == j:\n",
        "                s = cm_sum[i]\n",
        "                annot[i, j] = '%.1f%%\\n%d/%d' % (p, c, s)\n",
        "            elif c == 0:\n",
        "                annot[i, j] = ''\n",
        "            else:\n",
        "                annot[i, j] = '%.1f%%\\n%d' % (p, c)\n",
        "    cm = pd.DataFrame(cm, index=np.unique(y_test_non), columns=np.unique(y_pred_non))\n",
        "    cm.index.name = 'Actual'\n",
        "    cm.columns.name = 'Predicted'\n",
        "    fig, ax = plt.subplots(figsize=figsize)\n",
        "    sns.heatmap(cm, cmap= \"YlGnBu\", annot=annot, fmt='', ax=ax)\n",
        "plot_cm(y_test_non, y_pred_non)"
      ],
      "execution_count": 0,
      "outputs": []
    },
    {
      "cell_type": "code",
      "metadata": {
        "id": "HFg5xz7_svA_",
        "colab_type": "code",
        "colab": {
          "base_uri": "https://localhost:8080/",
          "height": 34
        },
        "outputId": "9c645719-4a34-41b4-f05a-1d268d3eb25b"
      },
      "source": [
        "!pip -q install pygal"
      ],
      "execution_count": 43,
      "outputs": [
        {
          "output_type": "stream",
          "text": [
            "\u001b[?25l\r\u001b[K     |██▋                             | 10kB 22.1MB/s eta 0:00:01\r\u001b[K     |█████▏                          | 20kB 1.8MB/s eta 0:00:01\r\u001b[K     |███████▊                        | 30kB 2.6MB/s eta 0:00:01\r\u001b[K     |██████████▎                     | 40kB 1.7MB/s eta 0:00:01\r\u001b[K     |████████████▉                   | 51kB 2.1MB/s eta 0:00:01\r\u001b[K     |███████████████▍                | 61kB 2.5MB/s eta 0:00:01\r\u001b[K     |██████████████████              | 71kB 2.9MB/s eta 0:00:01\r\u001b[K     |████████████████████▌           | 81kB 3.3MB/s eta 0:00:01\r\u001b[K     |███████████████████████▏        | 92kB 3.7MB/s eta 0:00:01\r\u001b[K     |█████████████████████████▊      | 102kB 2.8MB/s eta 0:00:01\r\u001b[K     |████████████████████████████▎   | 112kB 2.8MB/s eta 0:00:01\r\u001b[K     |██████████████████████████████▉ | 122kB 2.8MB/s eta 0:00:01\r\u001b[K     |████████████████████████████████| 133kB 2.8MB/s \n",
            "\u001b[?25h"
          ],
          "name": "stdout"
        }
      ]
    },
    {
      "cell_type": "code",
      "metadata": {
        "id": "0eeSZpeusfjn",
        "colab_type": "code",
        "colab": {}
      },
      "source": [
        "import pygal\n",
        "from IPython.display import display, HTML\n",
        "from pygal.style import RedBlueStyle\n",
        "base_html = \"\"\"\n",
        "<!DOCTYPE html>\n",
        "<html>\n",
        "  <head>\n",
        "  <script type=\"text/javascript\" src=\"http://kozea.github.com/pygal.js/javascripts/svg.jquery.js\"></script>\n",
        "  <script type=\"text/javascript\" src=\"https://kozea.github.io/pygal.js/2.0.x/pygal-tooltips.min.js\"\"></script>\n",
        "  </head>\n",
        "  <body>\n",
        "    <figure>\n",
        "      {rendered_chart}\n",
        "    </figure>\n",
        "  </body>\n",
        "</html>\n",
        "\"\"\"\n",
        "def galplot(chart):\n",
        "    rendered_chart = chart.render(is_unicode=True)\n",
        "    plot_html = base_html.format(rendered_chart=rendered_chart)\n",
        "    display(HTML(plot_html))\n",
        "def plot_cm(y_test_non, y_pred_non):\n",
        "    labels = np.unique(y_test_non)\n",
        "    cm = confusion_matrix(y_test_non, y_pred_non, labels=labels)\n",
        "    dot_chart = pygal.Dot(x_label_rotation=30, interpolate='cubic', style=RedBlueStyle)\n",
        "    dot_chart.title = 'Confusion Matrix'\n",
        "    dot_chart.x_labels = labels\n",
        "    dot_chart.x_title = \"Predicted\"\n",
        "    dot_chart.y_title = \"Actual\"\n",
        "    for i in range(len(labels)):\n",
        "        dot_chart.add(labels[i], cm[i,:])\n",
        "    galplot(dot_chart)\n",
        "plot_cm(y_test_non, y_pred_non)"
      ],
      "execution_count": 0,
      "outputs": []
    },
    {
      "cell_type": "code",
      "metadata": {
        "id": "IvkDD3PfmBxd",
        "colab_type": "code",
        "colab": {}
      },
      "source": [
        "make_confusion_matrix(conf_mat_3x3, figsize=(8,6), cbar=False)"
      ],
      "execution_count": 0,
      "outputs": []
    },
    {
      "cell_type": "code",
      "metadata": {
        "id": "E-90zB2gHvKf",
        "colab_type": "code",
        "colab": {
          "base_uri": "https://localhost:8080/",
          "height": 573
        },
        "outputId": "f72f6c2b-595b-417d-bf55-ab4c2ffb5637"
      },
      "source": [
        "# Plot training & validation accuracy values\n",
        "plt.plot(history.history['acc'])\n",
        "plt.plot(history.history['val_acc'])\n",
        "plt.title('model accuracy')\n",
        "plt.ylabel('accuracy')\n",
        "plt.xlabel('epoch')\n",
        "plt.legend(['train', 'val'], loc='upper left')\n",
        "plt.show()\n",
        "\n",
        "# Plot training & validation loss values\n",
        "plt.plot(history.history['loss'])\n",
        "plt.plot(history.history['val_loss'])\n",
        "plt.title('model loss')\n",
        "plt.ylabel('loss')\n",
        "plt.xlabel('epoch')\n",
        "plt.legend(['train', 'val'], loc='upper left')\n",
        "plt.show()"
      ],
      "execution_count": 18,
      "outputs": [
        {
          "output_type": "display_data",
          "data": {
            "image/png": "[encoded data removed]",
            "text/plain": [
              "<Figure size 432x288 with 1 Axes>"
            ]
          },
          "metadata": {
            "tags": []
          }
        },
        {
          "output_type": "display_data",
          "data": {
            "image/png": "[encoded data removed]",
            "text/plain": [
              "<Figure size 432x288 with 1 Axes>"
            ]
          },
          "metadata": {
            "tags": []
          }
        }
      ]
    },
    {
      "cell_type": "code",
      "metadata": {
        "id": "dybkA7h-bksj",
        "colab_type": "code",
        "colab": {}
      },
      "source": [
        ""
      ],
      "execution_count": 0,
      "outputs": []
    }
  ]
}